{
  "nbformat": 4,
  "nbformat_minor": 0,
  "metadata": {
    "colab": {
      "name": "aidlda_deep_reinforcement_learning_for_control.ipynb",
      "provenance": [],
      "collapsed_sections": []
    },
    "kernelspec": {
      "name": "python3",
      "display_name": "Python 3"
    },
    "accelerator": "GPU"
  },
  "cells": [
    {
      "cell_type": "markdown",
      "metadata": {
        "id": "hxyxoXxNykx8"
      },
      "source": [
        "#Deep Reinforcement Learning for Control\n",
        "\n",
        "## Lab Session\n",
        "\n",
        "### 4th International Summer School on Artificial Intelligience AI-DLDA 2021\n",
        "\n",
        "\n",
        "\n",
        "\n",
        "\n",
        "Notebook written by Matteo Dunnhofer `matteo.dunnhofer@uniud.it`\n",
        "\n",
        "Machine Learning and Perception Lab\n",
        "\n",
        "University of Udine"
      ]
    },
    {
      "cell_type": "markdown",
      "metadata": {
        "id": "toPmU8ezywR2"
      },
      "source": [
        "In this notebook we will see how to model and solve a toy control problem with **reinforcement learning** (RL) techniques."
      ]
    },
    {
      "cell_type": "markdown",
      "metadata": {
        "id": "u1gty_LkgM1N"
      },
      "source": [
        "## Problem\n",
        "\n",
        "![alt text](https://raw.githubusercontent.com/cpow-89/Extended-Deep-Q-Learning-For-Open-AI-Gym-Environments/master/images/Lunar_Lander_v2.gif)\n",
        "\n",
        "The **goal** is to control a lunar module to land safely on the moon (as shown by the gif above), without having access to any ground-truth or prior information. \n",
        "\n",
        "To solve this problem, we will train an **artificial agent** to by trial-and-error. The agent will control the module and learn by the experience acquired through the **interaction** between the module and the lunar environment. The interaction will happen through the **observation** of some features of the lander module and of the lunar ground, the subsequent execution of **actions**, and the **rewarding** of the latter based on their quality. We will exploit some functions/procedures to get information about the lander and about the landing site, and use them to model the environment the agent will interact with. The agent will be implemented as a **neural network** and the state-of-the-art **Soft Actor-Critic** (SAC) algorithm will be employed to optimize the network weights afterwards. \n",
        "\n",
        "We will take advantage of the most popular tools in the RL landscape to implement and solve this problem.\n",
        "\n",
        "Your duty is to **complete the missing code statements**, which are localized by `## TODO`, by following the given instructions."
      ]
    },
    {
      "cell_type": "markdown",
      "metadata": {
        "id": "TSVDIJcGirJN"
      },
      "source": [
        "## Utilities\n"
      ]
    },
    {
      "cell_type": "markdown",
      "metadata": {
        "id": "nIi2wSMYerEm"
      },
      "source": [
        "Let's start by fixing the seed for the random number generators."
      ]
    },
    {
      "cell_type": "code",
      "metadata": {
        "id": "BrKER7tnPB47"
      },
      "source": [
        "# Fix the seed for random number generators\n",
        "SEED = 1"
      ],
      "execution_count": null,
      "outputs": []
    },
    {
      "cell_type": "markdown",
      "metadata": {
        "id": "NNepi_lt9nsF"
      },
      "source": [
        "The following cells implement utilities to visualize graphically (as a video) the interaction between the agent and the environment. You do not need this part if you run the notebook as a script."
      ]
    },
    {
      "cell_type": "code",
      "metadata": {
        "id": "dTfyw8373oEH"
      },
      "source": [
        "!pip install pyvirtualdisplay > /dev/null 2>&1\n",
        "!apt-get install x11-utils > /dev/null 2>&1\n",
        "!apt-get install -y xvfb python-opengl ffmpeg > /dev/null 2>&1"
      ],
      "execution_count": null,
      "outputs": []
    },
    {
      "cell_type": "code",
      "metadata": {
        "id": "Y7BZ_YCU3ojF"
      },
      "source": [
        "from gym import logger as gymlogger\n",
        "from gym.wrappers import Monitor\n",
        "gymlogger.set_level(40) #error only\n",
        "import glob\n",
        "import io\n",
        "import os\n",
        "import base64\n",
        "from IPython.display import HTML\n",
        "from IPython import display as ipythondisplay\n",
        "import time"
      ],
      "execution_count": null,
      "outputs": []
    },
    {
      "cell_type": "code",
      "metadata": {
        "id": "LsyHMI673o-t"
      },
      "source": [
        "from pyvirtualdisplay import Display\n",
        "display = Display(visible=0, size=(1400, 900))\n",
        "display.start()"
      ],
      "execution_count": null,
      "outputs": []
    },
    {
      "cell_type": "code",
      "metadata": {
        "id": "6kTcD1TzFDM3"
      },
      "source": [
        "\"\"\"\n",
        "Utility functions to enable video recording of gym environment and displaying it\n",
        "To enable video, just do \"env = wrap_env(env)\"\"\n",
        "\"\"\"\n",
        "def show_video():\n",
        "    mp4list = glob.glob('videos/*/*.mp4')\n",
        "    mp4list.sort(key=os.path.getmtime)\n",
        "    if len(mp4list) > 0:\n",
        "        mp4 = mp4list[-1]\n",
        "        video = io.open(mp4, 'rb').read()\n",
        "        encoded = base64.b64encode(video)\n",
        "        ipythondisplay.display(HTML(data='''<video alt=\"test\" autoplay \n",
        "                    loop controls style=\"height: 400px;\">\n",
        "                    <source src=\"data:video/mp4;base64,{0}\" type=\"video/mp4\" />\n",
        "                </video>'''.format(encoded.decode('ascii'))))\n",
        "    else: \n",
        "        print(\"Could not find video\")\n",
        "    \n",
        "\n",
        "def wrap_env(env):\n",
        "    env = Monitor(env, './videos/' + str(time.time()) + '/')  # Monitor objects are used to save interactions as videos\n",
        "    return env"
      ],
      "execution_count": null,
      "outputs": []
    },
    {
      "cell_type": "markdown",
      "metadata": {
        "id": "uBCVgMue0VcP"
      },
      "source": [
        "## Environment\n",
        "\n",
        "Let's model the environment that the agent will interact with to pursue the goal of landing safely the module. Since the goal of the agent is to **control**\n",
        "the lander, the former will interact with the latter which is considered part of the environment.\n",
        "\n",
        "We will take advantage of OpenAi's [``gym``](https://gym.openai.com) which provides a standard structure to implement environments for RL tasks.\n",
        "In particular, we have to implement an [`Env`](https://github.com/openai/gym/blob/master/gym/core.py) class which represents the environment. According to the `gym`, there are two main methods that have to be implemented inside that class: `.reset()` and `.step(action)`. The first sets the environment at the first step of the interaction and returns the first state. The second method receives in input an action from the agent, executes it and changes the environment. Particularly, `.step(action)` moves forward the interaction of one temporal step; it computes the new state of the environment; it computes the reward for the input action; checks if the end of the interaction is reached. All this information is given as output by the method.\n",
        "\n",
        "For our problem of interest, we need to complete those methods. At our disposal, we have two relevant objects: `self.lander`, which represents the landing module; and `self.landing_site`, that represents the site of landing on the moon. Such objects have methods to access their information and which documentation is given in their definition file `lunar_landing_modules.py`. What we need to do is to exploit such methods to: **define the states** to feed the agent; **execute the actions** given by the agent; **compute the reward** to feedback the agent; **check the stopping conditions** of the interaction.\n",
        "Read the comments in the `lunar_landing_modules.py` in the following code cell for further details. Some cues about the available information about the lander and the landing site are visualized in the image below.\n",
        "\n",
        "![0*TfgisC1rNmMMHJgc.PNG](data:image/png;base64,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)\n",
        "\n",
        "Notice that the action spaces for the agent is already defined. We assume the agent can control the lander by providing the amount of fire to be used to control the lander's engines. Hence, the action space is considered as continuous and composed of 2 **actions** (amount of fire for left/right engine, amount of fire for main engine). More details can be found in the description of the method `fire_engine(action)` of the class `LunarLander` in the file `lunar_landing_modules.py`. Rewards should be given based on the landing position and the quality of the descent, and on the usage of the fuel. Interactions should end if the lander crashes or when it lands successfully."
      ]
    },
    {
      "cell_type": "markdown",
      "metadata": {
        "id": "wmB3a1pGqEAs"
      },
      "source": [
        "Let's install `gym`."
      ]
    },
    {
      "cell_type": "code",
      "metadata": {
        "id": "d0g8fVIASu1k"
      },
      "source": [
        "# Install packages related to gym and gym, necessary for our environment\n",
        "!pip install box2d-py > /dev/null 2>&1\n",
        "!pip install gym > /dev/null 2>&1\n",
        "!pip install gym[Box_2D] > /dev/null 2>&1"
      ],
      "execution_count": null,
      "outputs": []
    },
    {
      "cell_type": "markdown",
      "metadata": {
        "id": "kVVGZo-UqIsh"
      },
      "source": [
        "And now let's define and instantiate the environment."
      ]
    },
    {
      "cell_type": "code",
      "metadata": {
        "id": "jc1tOYD-Aywj"
      },
      "source": [
        "import numpy as np\n",
        "import gym\n",
        "from gym import spaces\n",
        "from gym.utils import seeding, EzPickle\n",
        "import Box2D\n",
        "from Box2D.b2 import (edgeShape, circleShape, fixtureDef, polygonShape, revoluteJointDef, contactListener)\n",
        "\n",
        "from lunar_landing_modules import World, LunarLander, LandingSite, ContactDetector, VIEWPORT_W, VIEWPORT_H, SCALE\n",
        "\n",
        "class LunarLandingEnv(gym.Env, EzPickle):\n",
        "    \"\"\"\n",
        "    Class to represent the environment the agents interacts with.\n",
        "    In particular, this class represents the enviroment of a lunar landing task\n",
        "    The environments defines:\n",
        "        - the states (the information about the environment) the agent can observe\n",
        "        - the actions the agent can take to change the environment\n",
        "        - the reward given by the environment in response to the agent's action\n",
        "        - the stopping conditions of the interaction\n",
        "\n",
        "    Check the OpenAI's gym for further details\n",
        "    \"\"\"\n",
        "    \n",
        "    metadata = {\n",
        "        'render.modes': ['human', 'rgb_array'],\n",
        "        'video.frames_per_second' : 50\n",
        "    }\n",
        "\n",
        "    def __init__(self):\n",
        "        EzPickle.__init__(self)\n",
        "        self.seed()\n",
        "        self.viewer = None\n",
        "        self.world = None\n",
        "\n",
        "        self.np_random, seed = seeding.np_random(123)\n",
        "\n",
        "        self.prev_reward = None\n",
        "        \n",
        "        # State space\n",
        "        # states are represented as vectors of floats\n",
        "        # STATE_SIZE reflects the number of features in each state vector\n",
        "        STATE_SIZE = ...\n",
        "        self.observation_space = spaces.Box(-np.inf, np.inf, shape=(STATE_SIZE,), dtype=np.float32)\n",
        "\n",
        "        # Action space\n",
        "        # actions are represented as vectors of two elements in the range [-1, +1]\n",
        "        # the first one represents the intensity to be applied to the main engine of the lander\n",
        "        # the second represents the intensity to be applied to the side engines of the lander\n",
        "        # hence we have a countinous action space\n",
        "        self.action_space = spaces.Box(-1, +1, (2,), dtype=np.float32)\n",
        "\n",
        "    def reset(self):\n",
        "        \"\"\"\n",
        "        Method that sets the env at the first state of the environment.\n",
        "        This method has to be called at the beginning of each interaction process.\n",
        "\n",
        "        Returns:\n",
        "            a np.array representing the first state of the environment\n",
        "        \"\"\"\n",
        "        # Defining a World object that manages the physics of the environment\n",
        "        # and which will contain the landing site and the lander module\n",
        "        self._destroy()\n",
        "        self.world = World()\n",
        "        self.world.world.contactListener_keepref = ContactDetector(self)\n",
        "        self.world.world.contactListener = self.world.world.contactListener_keepref\n",
        "        \n",
        "        self.prev_cost = None\n",
        "\n",
        "        # Definition of the landing site object\n",
        "        self.landing_site = LandingSite(self.world, np_random=self.np_random)\n",
        "        \n",
        "        # Definition of the lander module object\n",
        "        self.lander = LunarLander(self.world, np_random=self.np_random)\n",
        "\n",
        "        ## TODO\n",
        "        # Setup the first state of the environment\n",
        "\n",
        "        state = ...\n",
        "        \n",
        "        return np.array(state, dtype=np.float32)\n",
        "\n",
        "    def step(self, action):\n",
        "        \"\"\"\n",
        "        Method that receives an action from the agent and applies it \n",
        "        to change the environment (it moves the env forward for a single time step)\n",
        "        It returns the new state of the env, the reward given by the env, a flag that represents\n",
        "        the end of the interaction, and additional infos\n",
        "\n",
        "        Args:\n",
        "            action: a numpy array of 2 elements in [-1, 1] representing the power to be applied to the engines\n",
        "\n",
        "        Returns:\n",
        "            - new state of the env, as defined by self.observation_space, computed after the application of the action,\n",
        "            - the reward, as a float number, to feedback the agent\n",
        "            - the boolean variable done that takes True value if the last state of the env is reached\n",
        "            - additional infos about the environment\n",
        "        \"\"\"\n",
        "        action = np.clip(action, -1, +1).astype(np.float32)\n",
        "\n",
        "        ## TODO\n",
        "        # Execute the action given the agent\n",
        "        # This will change the environment\n",
        "        # use the action given by the agent to activate the engine of the lander\n",
        "        \n",
        "\n",
        "        # Compute the new state\n",
        "\n",
        "        new_state = ...\n",
        "        \n",
        "        # Compute the reward to feedback the agent\n",
        "        # i.e. evaluate the action of the action according to some \n",
        "        # performance measure you want to optimize\n",
        "        # Hint: consider the distance between the lander and the landing site\n",
        "        # Hint: you can also consider the fuel consumption\n",
        "        \n",
        "        reward = ...\n",
        "\n",
        "        # Compute the stopping criteria\n",
        "        \n",
        "        done = ...\n",
        "        \n",
        "            \n",
        "        return np.array(new_state, dtype=np.float32), reward, done, {}\n",
        "\n",
        "\n",
        "    def render(self, mode='human'):\n",
        "        \"\"\"\n",
        "        Method to render the environment on screen\n",
        "        \"\"\"\n",
        "\n",
        "        from gym.envs.classic_control import rendering\n",
        "        if self.viewer is None:\n",
        "            self.viewer = rendering.Viewer(VIEWPORT_W, VIEWPORT_H)\n",
        "            self.viewer.set_bounds(0, VIEWPORT_W/SCALE, 0, VIEWPORT_H/SCALE)\n",
        "\n",
        "        for obj in self.lander.particles:\n",
        "            obj.ttl -= 0.15\n",
        "            obj.color1 = (max(0.2, 0.2+obj.ttl), max(0.2, 0.5*obj.ttl), max(0.2, 0.5*obj.ttl))\n",
        "            obj.color2 = (max(0.2, 0.2+obj.ttl), max(0.2, 0.5*obj.ttl), max(0.2, 0.5*obj.ttl))\n",
        "\n",
        "        self.lander._clean_particles(False)\n",
        "\n",
        "        for p in self.landing_site.sky_polys:\n",
        "            self.viewer.draw_polygon(p, color=(0, 0, 0))\n",
        "\n",
        "        for obj in self.lander.particles + [self.lander.lander] + self.lander.legs:\n",
        "            for f in obj.fixtures:\n",
        "                trans = f.body.transform\n",
        "                if type(f.shape) is circleShape:\n",
        "                    t = rendering.Transform(translation=trans*f.shape.pos)\n",
        "                    self.viewer.draw_circle(f.shape.radius, 20, color=obj.color1).add_attr(t)\n",
        "                    self.viewer.draw_circle(f.shape.radius, 20, color=obj.color2, filled=False, linewidth=2).add_attr(t)\n",
        "                else:\n",
        "                    path = [trans*v for v in f.shape.vertices]\n",
        "                    self.viewer.draw_polygon(path, color=obj.color1)\n",
        "                    path.append(path[0])\n",
        "                    self.viewer.draw_polyline(path, color=obj.color2, linewidth=2)\n",
        "\n",
        "        landing_site_x1, landing_site_x2, landing_site_y = self.landing_site.get_position()\n",
        "        for x in [landing_site_x1, landing_site_x2]:\n",
        "            flagy1 = landing_site_y\n",
        "            flagy2 = flagy1 + 50/SCALE\n",
        "            self.viewer.draw_polyline([(x, flagy1), (x, flagy2)], color=(1, 1, 1))\n",
        "            self.viewer.draw_polygon([(x, flagy2), (x, flagy2-10/SCALE), (x + 25/SCALE, flagy2 - 5/SCALE)],\n",
        "                                     color=(0.8, 0.8, 0))\n",
        "\n",
        "        return self.viewer.render(return_rgb_array=mode == 'rgb_array')\n",
        "\n",
        "\n",
        "    def close(self):\n",
        "        if self.viewer is not None:\n",
        "            self.viewer.close()\n",
        "            self.viewer = None\n",
        "\n",
        "    def seed(self, seed=None):\n",
        "        self.np_random, seed = seeding.np_random(seed)\n",
        "        return [seed]\n",
        "\n",
        "    def _destroy(self):\n",
        "        if not self.world: return\n",
        "        self.world.world.contactListener = None\n",
        "        self.lander._clean_particles(True)\n",
        "        self.world.world.DestroyBody(self.landing_site.moon)\n",
        "        self.landing_site.moon = None\n",
        "        self.world.world.DestroyBody(self.lander.lander)\n",
        "        self.lander.lander = None\n",
        "        self.world.world.DestroyBody(self.lander.legs[0])\n",
        "        self.world.world.DestroyBody(self.lander.legs[1])\n",
        "\n",
        "# Create the environment\n",
        "env = LunarLandingEnv()\n",
        "env.seed(SEED)\n",
        "\n",
        "# Print the observation and action spaces of the env\n",
        "print('State space: {}'.format(env.observation_space))\n",
        "print('Action space: {} - low: {} high: {}'.format(env.action_space, env.action_space.low[0], env.action_space.high[0]))"
      ],
      "execution_count": null,
      "outputs": []
    },
    {
      "cell_type": "markdown",
      "metadata": {
        "id": "ceNu6T6Xl6o4"
      },
      "source": [
        "Fine! We are now ready the define the other blocks of our solution."
      ]
    },
    {
      "cell_type": "markdown",
      "metadata": {
        "id": "PDm2APXyCZs4"
      },
      "source": [
        "## Agent\n",
        "\n",
        "Let's move now to the agent definition! The agent will be the controller of the lander, it will contain the policy, and it will be responsible for its learning and execution.\n",
        "\n",
        "This time we will use the [`stable-baselines3`](https://github.com/DLR-RM/stable-baselines3) library which provides many PyTorch implementations of state-of-the-art RL algorithms.\n",
        "\n",
        "\n",
        "There are also other resources such as [Spinning Up in Deep RL!](https://spinningup.openai.com/en/latest/) which is excellent to start working with RL.  Indeed,\n",
        "it includes basic and advanced RL algorithms implementations with very detailed explanations. \n",
        "Algorithms and models are implemented by means of both PyTorch and TensorFlow frameworks.\n",
        "\n",
        "However, let's install `stable-baseline3`."
      ]
    },
    {
      "cell_type": "code",
      "metadata": {
        "id": "jVbFgODEnKPh"
      },
      "source": [
        "!pip install stable-baselines3  > /dev/null 2>&1"
      ],
      "execution_count": null,
      "outputs": []
    },
    {
      "cell_type": "markdown",
      "metadata": {
        "id": "FIEGyhtbUez3"
      },
      "source": [
        "As we will see in a minute, `stable-baseline3` allows us the train an RL agent with a single code statement. We need just to pass it the environment, some hyperparameters, and it will take care of agent initialization, learning, and so on.\n",
        "\n",
        "Before that, let's see how `stable-baseline3` implements the agent.\n",
        "\n",
        "\n"
      ]
    },
    {
      "cell_type": "code",
      "metadata": {
        "id": "719OxpnImeRK"
      },
      "source": [
        "from stable_baselines3.sac.policies import SACPolicy\n",
        "from typing import Callable\n",
        "\n",
        "# This function is needed just because the learning rate schedule is mandatory to \n",
        "# initialize the object representing the agent\n",
        "def linear_schedule(initial_value: float) -> Callable[[float], float]:\n",
        "    \"\"\"\n",
        "    Linear learning rate schedule.\n",
        "\n",
        "    :param initial_value: Initial learning rate.\n",
        "    :return: schedule that computes\n",
        "      current learning rate depending on remaining progress\n",
        "    \"\"\"\n",
        "    def func(progress_remaining: float) -> float:\n",
        "        \"\"\"\n",
        "        Progress will decrease from 1 (beginning) to 0.\n",
        "\n",
        "        :param progress_remaining:\n",
        "        :return: current learning rate\n",
        "        \"\"\"\n",
        "        return progress_remaining * initial_value\n",
        "\n",
        "    return func\n",
        "\n",
        "# Instantiate the agent as an actor-critic agent composed of multi-layer perceptrons\n",
        "agent = SACPolicy(env.observation_space, env.action_space, linear_schedule(0.001))\n",
        "\n",
        "print(agent)"
      ],
      "execution_count": null,
      "outputs": []
    },
    {
      "cell_type": "markdown",
      "metadata": {
        "id": "cDyBpexJY2Mf"
      },
      "source": [
        "This is just a `torch.nn.Module` that contains an MLP for the stochastic policy `actor` (the actor), and two MLPs for the Q-value functions `critic` and `critic_target` (the critics). We can have a look to the detailed implementation [here](https://github.com/DLR-RM/stable-baselines3/blob/master/stable_baselines3/sac/policies.py)."
      ]
    },
    {
      "cell_type": "markdown",
      "metadata": {
        "id": "P-pB1h1c55Yh"
      },
      "source": [
        "## Interaction\n",
        "\n",
        "Let's move to the implementation of the finite-horizon interaction procedure that must happen between agent and environment.\n",
        "This is done by means of the ``run_episode`` function. Following the [general structure of `gym`'s environments](https://gym.openai.com/docs/#observations), a state will be obtained from the environment and it will be given in input to the agent which will produce its action. Then, the action will be passed to the environment which will return the reward. This procedure will run until the stopping conditions are met.\n",
        "\n",
        "We will use this function for quantitive and qualitative evaluations, but a similar procedure is implemented by the `stable_baselines3` SAC algorithm during training. \n"
      ]
    },
    {
      "cell_type": "code",
      "metadata": {
        "id": "-r-Ass_gNcrN"
      },
      "source": [
        "## TODO\n",
        "# Implement the interaction procedure\n",
        "# as required by the gym structure\n",
        "\n",
        "def run_episode(agent, env, render=False):\n",
        "    \"\"\"\n",
        "    Given agent and env, runs an episode and returns the obtained rewards\n",
        "\n",
        "    Args:\n",
        "        agent: an object respecting the stable_baselines2 SACPolicy parameter\n",
        "        env: a gym environment\n",
        "\n",
        "    Returns:\n",
        "        rewards: list of scalar rewards\n",
        "    \"\"\"\n",
        "    # Empty lists to save rewards\n",
        "    rewards = []        # for rewards\n",
        "\n",
        "    if render:\n",
        "        # Do not need this if you locally run this notebook as a script\n",
        "        env = wrap_env(env)\n",
        "\n",
        "    # Reset environment to the first state\n",
        "    ...\n",
        "\n",
        "    # Run until the episode is finished\n",
        "    ...\n",
        "\n",
        "        # Render environment to screen\n",
        "        ...\n",
        "\n",
        "        # Get the action from the agent for the current state\n",
        "        # The SACPolicy class has a method .predict() which takes in input a state and returns the respective action\n",
        "        ...\n",
        "        \n",
        "        # Perform action and receive reward and new state\n",
        "        ...\n",
        "\n",
        "        # Save reward\n",
        "        ...\n",
        "\n",
        "    if render:\n",
        "        # Do not need this if you locally run this notebook as a script\n",
        "        env.close()\n",
        "        show_video()\n",
        "\n",
        "    return rewards\n"
      ],
      "execution_count": null,
      "outputs": []
    },
    {
      "cell_type": "markdown",
      "metadata": {
        "id": "5xSot9LXXRg4"
      },
      "source": [
        "Let's use `run_episode` to see how the agent performs without training."
      ]
    },
    {
      "cell_type": "code",
      "metadata": {
        "id": "QEEszek5XR1e"
      },
      "source": [
        "from stable_baselines3 import SAC\n",
        "\n",
        "# Define and initialized the agent with some hyperparameters\n",
        "agent = SAC(\"MlpPolicy\", env, learning_rate=0.001, batch_size=100, tau=0.995, seed=SEED, verbose=1)\n",
        "\n",
        "rewards = run_episode(agent, env, render=True)\n",
        "\n",
        "print('R(tau) = {}'.format(sum(rewards)))"
      ],
      "execution_count": null,
      "outputs": []
    },
    {
      "cell_type": "markdown",
      "metadata": {
        "id": "-MUAGDSX-KL2"
      },
      "source": [
        "## Training\n",
        "\n",
        "Let's arrive to the actual learning phase!\n",
        "\n",
        "As we said, we will use the Soft Actor-Critic algorithm, which is a state-of-the-art off-policy RL algorithm particularly designed for robotics and control problems. \n",
        "\n",
        "Here are some features:\n",
        "\n",
        "\n",
        "*   Stochastic Policy optimization in an Off-Policy way\n",
        "    - It bridges the sample efficiency of off-policy methods with the stability of policy optimization\n",
        "\n",
        "*   Entropy Regularization\n",
        "    - Maximization of policy entropy for better exploration\n",
        "\n",
        "\n",
        "*   Double Critic trick\n",
        "    - To reduce bias and make learning faster\n",
        "\n",
        "\n",
        "\n",
        "For the details of the algorithm, Spinning Up in Deep RL! gives a [very good tutorial](https://spinningup.openai.com/en/latest/algorithms/sac.html). Here we can have a look to the pseudocode.\n",
        "\n",
        "![alt text](https://imgur.com/oNsh1a8.png)\n"
      ]
    },
    {
      "cell_type": "markdown",
      "metadata": {
        "id": "CyYed8bDAmFD"
      },
      "source": [
        "With the `stable_baselines3` implementation is just matter of a single statement. If you are interested how it is defined inside, check [here](https://github.com/DLR-RM/stable-baselines3/blob/master/stable_baselines3/sac/sac.py).\n",
        "\n",
        "Now let's train!\n",
        "\n",
        "Hint: use Colab's GPU to make the learning faster."
      ]
    },
    {
      "cell_type": "code",
      "metadata": {
        "id": "QXEObBTW3VGi"
      },
      "source": [
        "# Train the agent\n",
        "agent.learn(total_timesteps=100000, log_interval=4)\n",
        "\n",
        "# Save the learned agent to file\n",
        "agent.save(\"lander_controller_agent\")"
      ],
      "execution_count": null,
      "outputs": []
    },
    {
      "cell_type": "markdown",
      "metadata": {
        "id": "_i955PXhoaA_"
      },
      "source": [
        "## Evaluating\n",
        "\n",
        "Let's see how our trained agent performs!"
      ]
    },
    {
      "cell_type": "code",
      "metadata": {
        "id": "NLSfnz-5oaci"
      },
      "source": [
        "# Load the agent from the checkpoint\n",
        "agent = SAC.load(\"lander_controller_agent\") \n",
        "\n",
        "# Qualitatively evaluate the performance of the agent on 5 episodes\n",
        "for e in range(5):\n",
        "    rewards = run_episode(agent, env, render=True)\n",
        "\n",
        "    R = sum(rewards)\n",
        "\n",
        "    print('Test episode {} - R(tau) = {}'.format(e, R))"
      ],
      "execution_count": null,
      "outputs": []
    },
    {
      "cell_type": "markdown",
      "metadata": {
        "id": "qN8w0afbNpST"
      },
      "source": [
        "Not bad!"
      ]
    },
    {
      "cell_type": "markdown",
      "metadata": {
        "id": "6Q2nB2vEq2az"
      },
      "source": [
        "Next step"
      ]
    },
    {
      "cell_type": "code",
      "metadata": {
        "id": "0pGHV-S-ttUY"
      },
      "source": [
        "from IPython.display import HTML\n",
        "HTML('<iframe width=\"560\" height=\"315\" src=\"https://www.youtube.com/embed/1sJlFzUQVmY?start=74\" title=\"YouTube video player\" frameborder=\"0\" allow=\"accelerometer; autoplay; clipboard-write; encrypted-media; gyroscope; picture-in-picture\" allowfullscreen></iframe>')\n"
      ],
      "execution_count": null,
      "outputs": []
    },
    {
      "cell_type": "markdown",
      "metadata": {
        "id": "DW56tYPoq2hW"
      },
      "source": [
        "You can use [this env](https://github.com/EmbersArc/gym-rocketlander)!"
      ]
    }
  ]
}